{
 "cells": [
  {
   "cell_type": "code",
   "execution_count": 41,
   "metadata": {},
   "outputs": [],
   "source": [
    "import cv2\n",
    "import numpy as np\n",
    "import os.path\n",
    "from tqdm import tqdm\n",
    "from PIL import Image\n",
    "from torchvision.transforms import ToTensor\n",
    "import torch\n",
    "\n"
   ]
  },
  {
   "cell_type": "code",
   "execution_count": 43,
   "metadata": {},
   "outputs": [
    {
     "name": "stdout",
     "output_type": "stream",
     "text": [
      "(300, 400, 3)\n",
      "[[  0   0   0 ...   0   0   0]\n",
      " [  0   0   0 ...   0   0   0]\n",
      " [  0   0   0 ...   0   0   0]\n",
      " ...\n",
      " [165 117 122 ... 116 129 129]\n",
      " [180 168 174 ... 115 132 128]\n",
      " [190 193 194 ... 120 128 130]]\n"
     ]
    }
   ],
   "source": [
    "\n",
    "img = cv2.imread('./darkness/Cars362_Z23wh0461.png')\n",
    "print(img.shape)\n",
    "# print(img)\n",
    "b, g, r = cv2.split(img)\n",
    "# cv2.imshow('g', g)\n",
    "# cv2.imshow('b', b)\n",
    "# cv2.imshow('r', r)\n",
    "print(g)\n",
    "cv2.waitKey(0)\n",
    "cv2.destroyAllWindows()"
   ]
  },
  {
   "cell_type": "code",
   "execution_count": 45,
   "metadata": {},
   "outputs": [
    {
     "name": "stderr",
     "output_type": "stream",
     "text": [
      "100%|██████████| 2/2 [00:00<00:00, 457.32it/s]"
     ]
    },
    {
     "name": "stdout",
     "output_type": "stream",
     "text": [
      "(300, 400, 3)\n",
      "tensor([[  0,   0,   0,  ...,   0,   0,   0],\n",
      "        [  0,   0,   0,  ...,   0,   0,   0],\n",
      "        [  0,   0,   0,  ...,   0,   0,   0],\n",
      "        ...,\n",
      "        [165, 117, 122,  ..., 116, 129, 129],\n",
      "        [180, 168, 174,  ..., 115, 132, 128],\n",
      "        [190, 193, 194,  ..., 120, 128, 130]], dtype=torch.uint8)\n"
     ]
    },
    {
     "name": "stderr",
     "output_type": "stream",
     "text": [
      "\n"
     ]
    }
   ],
   "source": [
    "img_pt ='./darkness'\n",
    "def load_images():\n",
    "    img_path = './darkness/'\n",
    "    imgs = []\n",
    "    for file in tqdm(os.listdir(img_path)):\n",
    "        imgs.append(np.array(Image.open(img_path + file)))\n",
    "    # both input images are from 0-->255\n",
    "    return imgs\n",
    "\n",
    "images = load_images()\n",
    "images = Image.open('./darkness/Cars362_Z23wh0461.png')\n",
    "# print(images[0][2])\n",
    "\n",
    "# rgb_im = images.convert('RGB')\n",
    "i = np.array(images)\n",
    "print(i.shape)\n",
    "\n",
    "img = torch.as_tensor(np.array(images, copy=True))\n",
    "img = img.view(images.size[1], images.size[0], len(images.getbands()))\n",
    "# put it from HWC to CHW format\n",
    "img = img.permute((2, 0, 1))\n",
    "print(img[1])\n",
    "\n",
    "# tf = ToTensor()\n",
    "# new = tf(i) \n",
    "# print(new[1])\n",
    "# cv2.imshow('i',i)\n",
    "# cv2.waitKey()\n",
    "# cv2.destroyAllWindows()\n",
    "\n",
    "\n",
    "# r, g, b = rgb_im.getpixel()\n",
    "\n"
   ]
  },
  {
   "cell_type": "code",
   "execution_count": null,
   "metadata": {},
   "outputs": [],
   "source": []
  }
 ],
 "metadata": {
  "kernelspec": {
   "display_name": "Python 3.8.16 ('yoloenv')",
   "language": "python",
   "name": "python3"
  },
  "language_info": {
   "codemirror_mode": {
    "name": "ipython",
    "version": 3
   },
   "file_extension": ".py",
   "mimetype": "text/x-python",
   "name": "python",
   "nbconvert_exporter": "python",
   "pygments_lexer": "ipython3",
   "version": "3.8.16"
  },
  "orig_nbformat": 4,
  "vscode": {
   "interpreter": {
    "hash": "490a5b9db5bcc11bf4673b3430a566fb64cc2d3a41a44a0a8d2d758862f5cece"
   }
  }
 },
 "nbformat": 4,
 "nbformat_minor": 2
}
